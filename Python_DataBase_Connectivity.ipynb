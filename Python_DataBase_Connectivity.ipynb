{
 "cells": [
  {
   "cell_type": "code",
   "execution_count": 1,
   "metadata": {},
   "outputs": [
    {
     "name": "stdout",
     "output_type": "stream",
     "text": [
      "Requirement already satisfied: flask in c:\\users\\gg415\\anaconda3\\lib\\site-packages (1.1.1)\n",
      "Requirement already satisfied: click>=5.1 in c:\\users\\gg415\\anaconda3\\lib\\site-packages (from flask) (7.1.2)\n",
      "Requirement already satisfied: itsdangerous>=0.24 in c:\\users\\gg415\\anaconda3\\lib\\site-packages (from flask) (1.1.0)\n",
      "Requirement already satisfied: Werkzeug>=0.15 in c:\\users\\gg415\\anaconda3\\lib\\site-packages (from flask) (1.0.0)\n",
      "Requirement already satisfied: Jinja2>=2.10.1 in c:\\users\\gg415\\anaconda3\\lib\\site-packages (from flask) (2.11.1)\n",
      "Requirement already satisfied: MarkupSafe>=0.23 in c:\\users\\gg415\\anaconda3\\lib\\site-packages (from Jinja2>=2.10.1->flask) (1.1.1)\n",
      "Note: you may need to restart the kernel to use updated packages.\n"
     ]
    }
   ],
   "source": [
    "pip install flask"
   ]
  },
  {
   "cell_type": "code",
   "execution_count": 2,
   "metadata": {},
   "outputs": [
    {
     "name": "stdout",
     "output_type": "stream",
     "text": [
      "Requirement already satisfied: Flask_SQLAlchemy in c:\\users\\gg415\\anaconda3\\lib\\site-packages (2.5.1)\n",
      "Requirement already satisfied: SQLAlchemy>=0.8.0 in c:\\users\\gg415\\anaconda3\\lib\\site-packages (from Flask_SQLAlchemy) (1.3.13)\n",
      "Requirement already satisfied: Flask>=0.10 in c:\\users\\gg415\\anaconda3\\lib\\site-packages (from Flask_SQLAlchemy) (1.1.1)\n",
      "Requirement already satisfied: Jinja2>=2.10.1 in c:\\users\\gg415\\anaconda3\\lib\\site-packages (from Flask>=0.10->Flask_SQLAlchemy) (2.11.1)\n",
      "Requirement already satisfied: itsdangerous>=0.24 in c:\\users\\gg415\\anaconda3\\lib\\site-packages (from Flask>=0.10->Flask_SQLAlchemy) (1.1.0)\n",
      "Requirement already satisfied: Werkzeug>=0.15 in c:\\users\\gg415\\anaconda3\\lib\\site-packages (from Flask>=0.10->Flask_SQLAlchemy) (1.0.0)\n",
      "Requirement already satisfied: click>=5.1 in c:\\users\\gg415\\anaconda3\\lib\\site-packages (from Flask>=0.10->Flask_SQLAlchemy) (7.1.2)\n",
      "Requirement already satisfied: MarkupSafe>=0.23 in c:\\users\\gg415\\anaconda3\\lib\\site-packages (from Jinja2>=2.10.1->Flask>=0.10->Flask_SQLAlchemy) (1.1.1)\n",
      "Note: you may need to restart the kernel to use updated packages.\n"
     ]
    }
   ],
   "source": [
    "pip install Flask_SQLAlchemy"
   ]
  },
  {
   "cell_type": "code",
   "execution_count": 3,
   "metadata": {},
   "outputs": [],
   "source": [
    "from flask import Flask"
   ]
  },
  {
   "cell_type": "code",
   "execution_count": 4,
   "metadata": {},
   "outputs": [],
   "source": [
    "from flask_sqlalchemy import SQLAlchemy"
   ]
  },
  {
   "cell_type": "code",
   "execution_count": 5,
   "metadata": {},
   "outputs": [
    {
     "name": "stdout",
     "output_type": "stream",
     "text": [
      "Hekllo\n"
     ]
    }
   ],
   "source": [
    "# the below code is for flask \n",
    "\"\"\"\n",
    "app = Flask(\"db1\")\n",
    "\n",
    "@app.route(\"/search\")\n",
    "def search():\n",
    "    \n",
    "    return(\"This is a search page\")\n",
    "\n",
    "\n",
    "@app.route(\"/name\")\n",
    "def name():\n",
    "    return(\" My Name IS Siddhartha\")\n",
    "    \n",
    "    \n",
    "\"\"\"\n",
    "print(\"Hekllo\")"
   ]
  },
  {
   "cell_type": "code",
   "execution_count": 6,
   "metadata": {},
   "outputs": [],
   "source": [
    "app = Flask(\"iiec\")"
   ]
  },
  {
   "cell_type": "code",
   "execution_count": 7,
   "metadata": {},
   "outputs": [],
   "source": [
    "app.config['SQLALCHEMY_DATABASE_URI'] = 'sqlite:///mydb/data3.sqlite'"
   ]
  },
  {
   "cell_type": "code",
   "execution_count": 8,
   "metadata": {},
   "outputs": [
    {
     "name": "stderr",
     "output_type": "stream",
     "text": [
      "C:\\Users\\gg415\\anaconda3\\lib\\site-packages\\flask_sqlalchemy\\__init__.py:873: FSADeprecationWarning: SQLALCHEMY_TRACK_MODIFICATIONS adds significant overhead and will be disabled by default in the future.  Set it to True or False to suppress this warning.\n",
      "  'SQLALCHEMY_TRACK_MODIFICATIONS adds significant overhead and '\n"
     ]
    }
   ],
   "source": [
    "db = SQLAlchemy(app)"
   ]
  },
  {
   "cell_type": "code",
   "execution_count": 9,
   "metadata": {},
   "outputs": [
    {
     "name": "stdout",
     "output_type": "stream",
     "text": [
      "<SQLAlchemy engine=sqlite:///C:\\Users\\gg415\\000-PYTHON by vimal daga\\mydb/data3.sqlite>\n"
     ]
    }
   ],
   "source": [
    "print(db)"
   ]
  },
  {
   "cell_type": "code",
   "execution_count": 10,
   "metadata": {},
   "outputs": [],
   "source": [
    "# first we need to create a schema for the database\n",
    "# for this we can use class and create the structure of the database"
   ]
  },
  {
   "cell_type": "code",
   "execution_count": 11,
   "metadata": {},
   "outputs": [],
   "source": [
    "class IIEC(db.Model):\n",
    "    id = db.Column(db.Integer, primary_key=True)\n",
    "    name = db.Column(db.Text)\n",
    "    age = db.Column(db.Integer)\n",
    "    remarks = db.Column(db.Text)\n",
    "    \n",
    "    def __init__(self, name, age , remarks):\n",
    "        self.name = name\n",
    "        self.age = age\n",
    "        self.remarks = remarks"
   ]
  },
  {
   "cell_type": "code",
   "execution_count": 12,
   "metadata": {},
   "outputs": [],
   "source": [
    "#  Here we have created  A schema for the database not its time to tell the python code to create a database based on the above \n",
    "#  model\n",
    "db.create_all()"
   ]
  },
  {
   "cell_type": "markdown",
   "metadata": {},
   "source": [
    "# Now that we have created our own databse no we need to learn how to manipulate it"
   ]
  },
  {
   "cell_type": "markdown",
   "metadata": {},
   "source": [
    "ADDING DATA TO A DATABASE"
   ]
  },
  {
   "cell_type": "code",
   "execution_count": 13,
   "metadata": {},
   "outputs": [],
   "source": [
    "tom = IIEC(\"TOM\", 22,\"GOOD\")      # <-- now we have an object of name tom with their details\n",
    "sid = IIEC(\"sid\", 20,\"V.GOOD\")\n",
    "abc = IIEC(\"abc\", 22,\"ok\")\n",
    "cde = IIEC(\"cde\", 24,\"Bad\")"
   ]
  },
  {
   "cell_type": "code",
   "execution_count": 14,
   "metadata": {},
   "outputs": [],
   "source": [
    "db.session.add(tom)\n",
    "db.session.add(sid)\n",
    "db.session.add(abc)\n",
    "db.session.add(cde)\n"
   ]
  },
  {
   "cell_type": "code",
   "execution_count": 15,
   "metadata": {},
   "outputs": [],
   "source": [
    "db.session.commit()"
   ]
  },
  {
   "cell_type": "markdown",
   "metadata": {},
   "source": [
    "-->> READING A QUERY"
   ]
  },
  {
   "cell_type": "code",
   "execution_count": 16,
   "metadata": {},
   "outputs": [
    {
     "name": "stdout",
     "output_type": "stream",
     "text": [
      "<IIEC 3>\n"
     ]
    }
   ],
   "source": [
    "read = IIEC.query.get(3)    # <--- this query will give us the 2nd row data\n",
    "print(read)"
   ]
  },
  {
   "cell_type": "code",
   "execution_count": 17,
   "metadata": {},
   "outputs": [
    {
     "name": "stdout",
     "output_type": "stream",
     "text": [
      "abc 22 ok\n"
     ]
    }
   ],
   "source": [
    "print(read.name,  read.age , read.remarks)"
   ]
  },
  {
   "cell_type": "code",
   "execution_count": 18,
   "metadata": {},
   "outputs": [
    {
     "name": "stdout",
     "output_type": "stream",
     "text": [
      "[<IIEC 1>, <IIEC 2>, <IIEC 3>, <IIEC 4>]\n"
     ]
    }
   ],
   "source": [
    "# To print all records\n",
    "\n",
    "read_all = IIEC.query.all()\n",
    "print(read_all)"
   ]
  },
  {
   "cell_type": "code",
   "execution_count": 19,
   "metadata": {},
   "outputs": [],
   "source": [
    "# this function will help us to print the array data\n",
    "def print_array(arr):\n",
    "    for i in arr:\n",
    "        print( i.name, i.age, i.remarks)\n",
    "\n",
    "def printALL():\n",
    "    read_all = IIEC.query.all()\n",
    "    print_array(read_all)"
   ]
  },
  {
   "cell_type": "markdown",
   "metadata": {},
   "source": [
    " ---->> to get specific/filtered data"
   ]
  },
  {
   "cell_type": "code",
   "execution_count": 20,
   "metadata": {},
   "outputs": [
    {
     "name": "stdout",
     "output_type": "stream",
     "text": [
      "TOM 22 GOOD\n",
      "sid 20 V.GOOD\n",
      "abc 22 ok\n",
      "cde 24 Bad\n"
     ]
    }
   ],
   "source": [
    "print_array(read_all)"
   ]
  },
  {
   "cell_type": "code",
   "execution_count": 21,
   "metadata": {
    "scrolled": true
   },
   "outputs": [
    {
     "name": "stdout",
     "output_type": "stream",
     "text": [
      "abc 22 ok\n",
      "\n",
      "TOM 22 GOOD\n"
     ]
    }
   ],
   "source": [
    "read_filtered = IIEC.query.filter_by(remarks = \"ok\")\n",
    "print_array(read_filtered)\n",
    "print()\n",
    "read_filtered = IIEC.query.filter_by(remarks = \"GOOD\")\n",
    "print_array(read_filtered)"
   ]
  },
  {
   "cell_type": "code",
   "execution_count": 22,
   "metadata": {},
   "outputs": [
    {
     "name": "stdout",
     "output_type": "stream",
     "text": [
      "TOM 22 GOOD\n",
      "abc 22 ok\n"
     ]
    }
   ],
   "source": [
    "read_filtered = IIEC.query.filter_by(age = 22)\n",
    "print_array(read_filtered)"
   ]
  },
  {
   "cell_type": "markdown",
   "metadata": {},
   "source": [
    " ---->> TO UPDATE A ROW/COLUMN"
   ]
  },
  {
   "cell_type": "code",
   "execution_count": 23,
   "metadata": {},
   "outputs": [
    {
     "name": "stdout",
     "output_type": "stream",
     "text": [
      "BAD\n"
     ]
    }
   ],
   "source": [
    "#r_update = IIEC.query.filter_by(remarks = \"ok\")\n",
    "r_update = IIEC.query.get(1)\n",
    "r_update.remarks  = \"BAD\"\n",
    "print(r_update.remarks)"
   ]
  },
  {
   "cell_type": "code",
   "execution_count": 24,
   "metadata": {},
   "outputs": [],
   "source": [
    "db.session.add(r_update)\n",
    "db.session.commit()\n"
   ]
  },
  {
   "cell_type": "code",
   "execution_count": 25,
   "metadata": {},
   "outputs": [
    {
     "name": "stdout",
     "output_type": "stream",
     "text": [
      "TOM 22 BAD\n",
      "sid 20 V.GOOD\n",
      "abc 22 ok\n",
      "cde 24 Bad\n"
     ]
    }
   ],
   "source": [
    "printALL()"
   ]
  },
  {
   "cell_type": "markdown",
   "metadata": {},
   "source": [
    "    ___>DELETING A QUERY"
   ]
  },
  {
   "cell_type": "code",
   "execution_count": 26,
   "metadata": {},
   "outputs": [],
   "source": [
    "r_delete = IIEC.query.get(1)\n",
    "db.session.delete(r_delete)"
   ]
  },
  {
   "cell_type": "code",
   "execution_count": 27,
   "metadata": {},
   "outputs": [
    {
     "name": "stdout",
     "output_type": "stream",
     "text": [
      "sid 20 V.GOOD\n",
      "abc 22 ok\n",
      "cde 24 Bad\n"
     ]
    }
   ],
   "source": [
    "printALL()"
   ]
  },
  {
   "cell_type": "code",
   "execution_count": 28,
   "metadata": {},
   "outputs": [],
   "source": [
    "db.session.commit()"
   ]
  },
  {
   "cell_type": "code",
   "execution_count": 29,
   "metadata": {},
   "outputs": [
    {
     "name": "stdout",
     "output_type": "stream",
     "text": [
      "sid 20 V.GOOD\n",
      "abc 22 ok\n",
      "cde 24 Bad\n"
     ]
    }
   ],
   "source": [
    "printALL()"
   ]
  },
  {
   "cell_type": "code",
   "execution_count": null,
   "metadata": {},
   "outputs": [],
   "source": []
  },
  {
   "cell_type": "code",
   "execution_count": null,
   "metadata": {},
   "outputs": [],
   "source": []
  }
 ],
 "metadata": {
  "kernelspec": {
   "display_name": "Python 3",
   "language": "python",
   "name": "python3"
  },
  "language_info": {
   "codemirror_mode": {
    "name": "ipython",
    "version": 3
   },
   "file_extension": ".py",
   "mimetype": "text/x-python",
   "name": "python",
   "nbconvert_exporter": "python",
   "pygments_lexer": "ipython3",
   "version": "3.7.6"
  }
 },
 "nbformat": 4,
 "nbformat_minor": 4
}
